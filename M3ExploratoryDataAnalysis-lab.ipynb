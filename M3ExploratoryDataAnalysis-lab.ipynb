{
 "cells": [
  {
   "cell_type": "markdown",
   "metadata": {},
   "source": [
    "<p style=\"text-align:center\">\n",
    "    <a href=\"https://skills.network/?utm_medium=Exinfluencer&utm_source=Exinfluencer&utm_content=000026UJ&utm_term=10006555&utm_id=NA-SkillsNetwork-Channel-SkillsNetworkCoursesIBMDA0321ENSkillsNetwork928-2023-01-01\">\n",
    "    <img src=\"https://cf-courses-data.s3.us.cloud-object-storage.appdomain.cloud/assets/logos/SN_web_lightmode.png\" width=\"200\" alt=\"Skills Network Logo\"  />\n",
    "    </a>\n",
    "</p>\n"
   ]
  },
  {
   "cell_type": "markdown",
   "metadata": {},
   "source": [
    "# **Exploratory Data Analysis Lab**\n"
   ]
  },
  {
   "cell_type": "markdown",
   "metadata": {},
   "source": [
    "Estimated time needed: **30** minutes\n"
   ]
  },
  {
   "cell_type": "markdown",
   "metadata": {},
   "source": [
    "In this module you get to work with the cleaned dataset from the previous module.\n",
    "\n",
    "In this assignment you will perform the task of exploratory data analysis.\n",
    "You will find out the distribution of data, presence of outliers and also determine the correlation between different columns in the dataset.\n"
   ]
  },
  {
   "cell_type": "markdown",
   "metadata": {},
   "source": [
    "## Objectives\n"
   ]
  },
  {
   "cell_type": "markdown",
   "metadata": {},
   "source": [
    "In this lab you will perform the following:\n"
   ]
  },
  {
   "cell_type": "markdown",
   "metadata": {},
   "source": [
    "-   Identify the distribution of data in the dataset.\n",
    "\n",
    "-   Identify outliers in the dataset.\n",
    "\n",
    "-   Remove outliers from the dataset.\n",
    "\n",
    "-   Identify correlation between features in the dataset.\n"
   ]
  },
  {
   "cell_type": "markdown",
   "metadata": {},
   "source": [
    "* * *\n"
   ]
  },
  {
   "cell_type": "markdown",
   "metadata": {},
   "source": [
    "## Hands on Lab\n"
   ]
  },
  {
   "cell_type": "markdown",
   "metadata": {},
   "source": [
    "Import the pandas module.\n"
   ]
  },
  {
   "cell_type": "code",
   "execution_count": 1,
   "metadata": {
    "tags": []
   },
   "outputs": [],
   "source": [
    "import pandas as pd"
   ]
  },
  {
   "cell_type": "markdown",
   "metadata": {},
   "source": [
    "Load the dataset into a dataframe.\n"
   ]
  },
  {
   "cell_type": "code",
   "execution_count": 2,
   "metadata": {
    "tags": []
   },
   "outputs": [],
   "source": [
    "df = pd.read_csv(\"https://cf-courses-data.s3.us.cloud-object-storage.appdomain.cloud/IBM-DA0321EN-SkillsNetwork/LargeData/m2_survey_data.csv\")"
   ]
  },
  {
   "cell_type": "markdown",
   "metadata": {},
   "source": [
    "## Distribution\n"
   ]
  },
  {
   "cell_type": "markdown",
   "metadata": {},
   "source": [
    "### Determine how the data is distributed\n"
   ]
  },
  {
   "cell_type": "markdown",
   "metadata": {},
   "source": [
    "The column `ConvertedComp` contains Salary converted to annual USD salaries using the exchange rate on 2019-02-01.\n",
    "\n",
    "This assumes 12 working months and 50 working weeks.\n"
   ]
  },
  {
   "cell_type": "markdown",
   "metadata": {},
   "source": [
    "Plot the distribution curve for the column `ConvertedComp`.\n"
   ]
  },
  {
   "cell_type": "code",
   "execution_count": 4,
   "metadata": {
    "tags": []
   },
   "outputs": [
    {
     "name": "stdout",
     "output_type": "stream",
     "text": [
      "Collecting scipy\n",
      "  Downloading scipy-1.11.1-cp311-cp311-win_amd64.whl (44.0 MB)\n",
      "                                              0.0/44.0 MB ? eta -:--:--\n",
      "                                              0.0/44.0 MB ? eta -:--:--\n",
      "                                              0.0/44.0 MB ? eta -:--:--\n",
      "                                              0.0/44.0 MB ? eta -:--:--\n",
      "                                             0.0/44.0 MB 217.9 kB/s eta 0:03:22\n",
      "                                             0.1/44.0 MB 297.7 kB/s eta 0:02:28\n",
      "                                             0.1/44.0 MB 403.5 kB/s eta 0:01:49\n",
      "                                             0.2/44.0 MB 615.9 kB/s eta 0:01:12\n",
      "                                             0.2/44.0 MB 620.6 kB/s eta 0:01:11\n",
      "                                             0.3/44.0 MB 682.7 kB/s eta 0:01:05\n",
      "                                             0.3/44.0 MB 781.9 kB/s eta 0:00:56\n",
      "                                             0.4/44.0 MB 807.8 kB/s eta 0:00:54\n",
      "                                             0.4/44.0 MB 793.8 kB/s eta 0:00:55\n",
      "                                             0.5/44.0 MB 936.0 kB/s eta 0:00:47\n",
      "                                              0.7/44.0 MB 1.1 MB/s eta 0:00:40\n",
      "                                              0.7/44.0 MB 1.1 MB/s eta 0:00:39\n",
      "                                              0.7/44.0 MB 1.1 MB/s eta 0:00:41\n",
      "                                              0.8/44.0 MB 1.2 MB/s eta 0:00:38\n",
      "                                              1.0/44.0 MB 1.2 MB/s eta 0:00:36\n",
      "                                              1.1/44.0 MB 1.3 MB/s eta 0:00:34\n",
      "                                              1.1/44.0 MB 1.2 MB/s eta 0:00:35\n",
      "     -                                        1.1/44.0 MB 1.2 MB/s eta 0:00:35\n",
      "     -                                        1.2/44.0 MB 1.2 MB/s eta 0:00:35\n",
      "     -                                        1.3/44.0 MB 1.3 MB/s eta 0:00:33\n",
      "     -                                        1.4/44.0 MB 1.3 MB/s eta 0:00:32\n",
      "     -                                        1.5/44.0 MB 1.4 MB/s eta 0:00:31\n",
      "     -                                        1.7/44.0 MB 1.4 MB/s eta 0:00:30\n",
      "     -                                        1.7/44.0 MB 1.4 MB/s eta 0:00:30\n",
      "     -                                        1.8/44.0 MB 1.4 MB/s eta 0:00:30\n",
      "     -                                        2.0/44.0 MB 1.5 MB/s eta 0:00:28\n",
      "     -                                        2.1/44.0 MB 1.5 MB/s eta 0:00:28\n",
      "     -                                        2.2/44.0 MB 1.6 MB/s eta 0:00:27\n",
      "     --                                       2.3/44.0 MB 1.6 MB/s eta 0:00:26\n",
      "     --                                       2.4/44.0 MB 1.6 MB/s eta 0:00:26\n",
      "     --                                       2.5/44.0 MB 1.6 MB/s eta 0:00:26\n",
      "     --                                       2.6/44.0 MB 1.7 MB/s eta 0:00:25\n",
      "     --                                       2.7/44.0 MB 1.7 MB/s eta 0:00:25\n",
      "     --                                       2.8/44.0 MB 1.7 MB/s eta 0:00:24\n",
      "     --                                       2.9/44.0 MB 1.7 MB/s eta 0:00:24\n",
      "     --                                       2.9/44.0 MB 1.7 MB/s eta 0:00:25\n",
      "     --                                       3.1/44.0 MB 1.7 MB/s eta 0:00:25\n",
      "     --                                       3.2/44.0 MB 1.7 MB/s eta 0:00:24\n",
      "     ---                                      3.3/44.0 MB 1.8 MB/s eta 0:00:24\n",
      "     ---                                      3.5/44.0 MB 1.8 MB/s eta 0:00:23\n",
      "     ---                                      3.6/44.0 MB 1.8 MB/s eta 0:00:23\n",
      "     ---                                      3.7/44.0 MB 1.8 MB/s eta 0:00:23\n",
      "     ---                                      3.8/44.0 MB 1.8 MB/s eta 0:00:22\n",
      "     ---                                      3.9/44.0 MB 1.8 MB/s eta 0:00:22\n",
      "     ---                                      4.0/44.0 MB 1.8 MB/s eta 0:00:22\n",
      "     ---                                      4.1/44.0 MB 1.8 MB/s eta 0:00:22\n",
      "     ---                                      4.1/44.0 MB 1.8 MB/s eta 0:00:23\n",
      "     ---                                      4.2/44.0 MB 1.8 MB/s eta 0:00:22\n",
      "     ---                                      4.2/44.0 MB 1.8 MB/s eta 0:00:22\n",
      "     ---                                      4.2/44.0 MB 1.8 MB/s eta 0:00:22\n",
      "     ---                                      4.2/44.0 MB 1.8 MB/s eta 0:00:22\n",
      "     ---                                      4.2/44.0 MB 1.8 MB/s eta 0:00:22\n",
      "     ---                                      4.2/44.0 MB 1.6 MB/s eta 0:00:25\n",
      "     ---                                      4.2/44.0 MB 1.6 MB/s eta 0:00:25\n",
      "     ---                                      4.2/44.0 MB 1.6 MB/s eta 0:00:25\n",
      "     ----                                     4.8/44.0 MB 1.8 MB/s eta 0:00:23\n",
      "     ----                                     4.8/44.0 MB 1.8 MB/s eta 0:00:23\n",
      "     ----                                     4.9/44.0 MB 1.8 MB/s eta 0:00:23\n",
      "     ----                                     5.0/44.0 MB 1.8 MB/s eta 0:00:23\n",
      "     ----                                     5.1/44.0 MB 1.7 MB/s eta 0:00:23\n",
      "     ----                                     5.1/44.0 MB 1.7 MB/s eta 0:00:23\n",
      "     ----                                     5.2/44.0 MB 1.7 MB/s eta 0:00:23\n",
      "     ----                                     5.3/44.0 MB 1.7 MB/s eta 0:00:23\n",
      "     ----                                     5.3/44.0 MB 1.7 MB/s eta 0:00:23\n",
      "     ----                                     5.4/44.0 MB 1.7 MB/s eta 0:00:23\n",
      "     ----                                     5.5/44.0 MB 1.7 MB/s eta 0:00:23\n",
      "     -----                                    5.6/44.0 MB 1.7 MB/s eta 0:00:23\n",
      "     -----                                    5.6/44.0 MB 1.7 MB/s eta 0:00:23\n",
      "     -----                                    5.7/44.0 MB 1.7 MB/s eta 0:00:23\n",
      "     -----                                    5.8/44.0 MB 1.7 MB/s eta 0:00:23\n",
      "     -----                                    5.8/44.0 MB 1.7 MB/s eta 0:00:23\n",
      "     -----                                    5.9/44.0 MB 1.7 MB/s eta 0:00:23\n",
      "     -----                                    6.0/44.0 MB 1.7 MB/s eta 0:00:23\n",
      "     -----                                    6.0/44.0 MB 1.7 MB/s eta 0:00:23\n",
      "     -----                                    6.1/44.0 MB 1.7 MB/s eta 0:00:23\n",
      "     -----                                    6.2/44.0 MB 1.7 MB/s eta 0:00:23\n",
      "     -----                                    6.3/44.0 MB 1.7 MB/s eta 0:00:23\n",
      "     -----                                    6.3/44.0 MB 1.7 MB/s eta 0:00:23\n",
      "     -----                                    6.4/44.0 MB 1.7 MB/s eta 0:00:23\n",
      "     -----                                    6.5/44.0 MB 1.7 MB/s eta 0:00:23\n",
      "     -----                                    6.5/44.0 MB 1.7 MB/s eta 0:00:23\n",
      "     ------                                   6.6/44.0 MB 1.7 MB/s eta 0:00:23\n",
      "     ------                                   6.7/44.0 MB 1.7 MB/s eta 0:00:23\n",
      "     ------                                   6.7/44.0 MB 1.7 MB/s eta 0:00:23\n",
      "     ------                                   6.8/44.0 MB 1.7 MB/s eta 0:00:23\n",
      "     ------                                   6.9/44.0 MB 1.7 MB/s eta 0:00:23\n",
      "     ------                                   7.1/44.0 MB 1.7 MB/s eta 0:00:22\n",
      "     ------                                   7.3/44.0 MB 1.7 MB/s eta 0:00:22\n",
      "     ------                                   7.3/44.0 MB 1.7 MB/s eta 0:00:22\n",
      "     ------                                   7.4/44.0 MB 1.7 MB/s eta 0:00:22\n",
      "     ------                                   7.5/44.0 MB 1.7 MB/s eta 0:00:22\n",
      "     ------                                   7.6/44.0 MB 1.7 MB/s eta 0:00:21\n",
      "     -------                                  7.8/44.0 MB 1.8 MB/s eta 0:00:21\n",
      "     -------                                  7.9/44.0 MB 1.8 MB/s eta 0:00:21\n",
      "     -------                                  8.0/44.0 MB 1.8 MB/s eta 0:00:21\n",
      "     -------                                  8.1/44.0 MB 1.8 MB/s eta 0:00:21\n",
      "     -------                                  8.3/44.0 MB 1.8 MB/s eta 0:00:20\n",
      "     -------                                  8.4/44.0 MB 1.8 MB/s eta 0:00:20\n",
      "     -------                                  8.5/44.0 MB 1.8 MB/s eta 0:00:20\n",
      "     -------                                  8.6/44.0 MB 1.8 MB/s eta 0:00:20\n",
      "     -------                                  8.8/44.0 MB 1.8 MB/s eta 0:00:20\n",
      "     --------                                 8.9/44.0 MB 1.8 MB/s eta 0:00:20\n",
      "     --------                                 9.0/44.0 MB 1.8 MB/s eta 0:00:19\n",
      "     --------                                 9.1/44.0 MB 1.8 MB/s eta 0:00:19\n",
      "     --------                                 9.2/44.0 MB 1.9 MB/s eta 0:00:19\n",
      "     --------                                 9.3/44.0 MB 1.9 MB/s eta 0:00:19\n",
      "     --------                                 9.5/44.0 MB 1.9 MB/s eta 0:00:19\n",
      "     --------                                 9.6/44.0 MB 1.9 MB/s eta 0:00:19\n",
      "     --------                                 9.8/44.0 MB 1.9 MB/s eta 0:00:19\n",
      "     --------                                 9.9/44.0 MB 1.9 MB/s eta 0:00:19\n",
      "     ---------                                10.0/44.0 MB 1.9 MB/s eta 0:00:18\n",
      "     ---------                                10.1/44.0 MB 1.9 MB/s eta 0:00:18\n",
      "     ---------                                10.2/44.0 MB 1.9 MB/s eta 0:00:18\n",
      "     ---------                                10.4/44.0 MB 2.0 MB/s eta 0:00:17\n",
      "     ---------                                10.5/44.0 MB 2.0 MB/s eta 0:00:17\n",
      "     ---------                                10.5/44.0 MB 2.0 MB/s eta 0:00:17\n",
      "     ---------                                10.7/44.0 MB 2.0 MB/s eta 0:00:17\n",
      "     ---------                                10.8/44.0 MB 2.0 MB/s eta 0:00:17\n",
      "     ---------                                10.9/44.0 MB 2.0 MB/s eta 0:00:17\n",
      "     ----------                               11.1/44.0 MB 2.1 MB/s eta 0:00:16\n",
      "     ----------                               11.2/44.0 MB 2.1 MB/s eta 0:00:16\n",
      "     ----------                               11.3/44.0 MB 2.1 MB/s eta 0:00:16\n",
      "     ----------                               11.4/44.0 MB 2.1 MB/s eta 0:00:16\n",
      "     ----------                               11.5/44.0 MB 2.1 MB/s eta 0:00:16\n",
      "     ----------                               11.7/44.0 MB 2.1 MB/s eta 0:00:16\n",
      "     ----------                               11.8/44.0 MB 2.1 MB/s eta 0:00:16\n",
      "     ----------                               11.9/44.0 MB 2.1 MB/s eta 0:00:16\n",
      "     ----------                               12.0/44.0 MB 2.1 MB/s eta 0:00:15\n",
      "     -----------                              12.1/44.0 MB 2.1 MB/s eta 0:00:15\n",
      "     -----------                              12.3/44.0 MB 2.1 MB/s eta 0:00:15\n",
      "     -----------                              12.4/44.0 MB 2.1 MB/s eta 0:00:15\n",
      "     -----------                              12.5/44.0 MB 2.1 MB/s eta 0:00:15\n",
      "     -----------                              12.7/44.0 MB 2.1 MB/s eta 0:00:15\n",
      "     -----------                              12.8/44.0 MB 2.1 MB/s eta 0:00:15\n",
      "     -----------                              12.9/44.0 MB 2.2 MB/s eta 0:00:15\n",
      "     -----------                              13.0/44.0 MB 2.1 MB/s eta 0:00:15\n",
      "     -----------                              13.2/44.0 MB 2.2 MB/s eta 0:00:15\n",
      "     ------------                             13.3/44.0 MB 2.2 MB/s eta 0:00:15\n",
      "     ------------                             13.4/44.0 MB 2.2 MB/s eta 0:00:15\n",
      "     ------------                             13.5/44.0 MB 2.2 MB/s eta 0:00:15\n",
      "     ------------                             13.6/44.0 MB 2.2 MB/s eta 0:00:14\n",
      "     ------------                             13.7/44.0 MB 2.2 MB/s eta 0:00:14\n",
      "     ------------                             13.9/44.0 MB 2.2 MB/s eta 0:00:14\n",
      "     ------------                             14.0/44.0 MB 2.2 MB/s eta 0:00:14\n",
      "     ------------                             14.1/44.0 MB 2.2 MB/s eta 0:00:14\n",
      "     ------------                             14.3/44.0 MB 2.2 MB/s eta 0:00:14\n",
      "     -------------                            14.4/44.0 MB 2.2 MB/s eta 0:00:14\n",
      "     -------------                            14.5/44.0 MB 2.4 MB/s eta 0:00:13\n",
      "     -------------                            14.6/44.0 MB 2.4 MB/s eta 0:00:13\n",
      "     -------------                            14.7/44.0 MB 2.3 MB/s eta 0:00:13\n",
      "     -------------                            14.9/44.0 MB 2.3 MB/s eta 0:00:13\n",
      "     -------------                            15.0/44.0 MB 2.3 MB/s eta 0:00:13\n",
      "     -------------                            15.1/44.0 MB 2.3 MB/s eta 0:00:13\n",
      "     -------------                            15.2/44.0 MB 2.3 MB/s eta 0:00:13\n",
      "     -------------                            15.4/44.0 MB 2.3 MB/s eta 0:00:13\n",
      "     --------------                           15.5/44.0 MB 2.4 MB/s eta 0:00:13\n",
      "     --------------                           15.6/44.0 MB 2.4 MB/s eta 0:00:12\n",
      "     --------------                           15.7/44.0 MB 2.4 MB/s eta 0:00:12\n",
      "     --------------                           15.9/44.0 MB 2.4 MB/s eta 0:00:12\n",
      "     --------------                           16.0/44.0 MB 2.4 MB/s eta 0:00:12\n",
      "     --------------                           16.1/44.0 MB 2.5 MB/s eta 0:00:12\n",
      "     --------------                           16.2/44.0 MB 2.5 MB/s eta 0:00:12\n",
      "     --------------                           16.3/44.0 MB 2.5 MB/s eta 0:00:12\n",
      "     --------------                           16.4/44.0 MB 2.5 MB/s eta 0:00:11\n",
      "     ---------------                          16.6/44.0 MB 2.5 MB/s eta 0:00:11\n",
      "     ---------------                          16.7/44.0 MB 2.6 MB/s eta 0:00:11\n",
      "     ---------------                          16.8/44.0 MB 2.6 MB/s eta 0:00:11\n",
      "     ---------------                          17.0/44.0 MB 2.6 MB/s eta 0:00:11\n",
      "     ---------------                          17.2/44.0 MB 2.7 MB/s eta 0:00:11\n",
      "     ---------------                          17.3/44.0 MB 2.7 MB/s eta 0:00:11\n",
      "     ---------------                          17.5/44.0 MB 2.7 MB/s eta 0:00:10\n",
      "     ----------------                         17.7/44.0 MB 2.7 MB/s eta 0:00:10\n",
      "     ----------------                         17.8/44.0 MB 2.7 MB/s eta 0:00:10\n",
      "     ----------------                         17.9/44.0 MB 2.7 MB/s eta 0:00:10\n",
      "     ----------------                         18.1/44.0 MB 2.7 MB/s eta 0:00:10\n",
      "     ----------------                         18.1/44.0 MB 2.7 MB/s eta 0:00:10\n",
      "     ----------------                         18.1/44.0 MB 2.7 MB/s eta 0:00:10\n",
      "     ----------------                         18.3/44.0 MB 2.7 MB/s eta 0:00:10\n",
      "     ----------------                         18.4/44.0 MB 2.7 MB/s eta 0:00:10\n",
      "     ----------------                         18.6/44.0 MB 2.7 MB/s eta 0:00:10\n",
      "     ----------------                         18.7/44.0 MB 2.7 MB/s eta 0:00:10\n",
      "     -----------------                        18.9/44.0 MB 2.7 MB/s eta 0:00:10\n",
      "     -----------------                        19.0/44.0 MB 2.7 MB/s eta 0:00:10\n",
      "     -----------------                        19.1/44.0 MB 2.7 MB/s eta 0:00:10\n",
      "     -----------------                        19.1/44.0 MB 2.7 MB/s eta 0:00:10\n",
      "     -----------------                        19.2/44.0 MB 2.7 MB/s eta 0:00:10\n",
      "     -----------------                        19.4/44.0 MB 2.7 MB/s eta 0:00:10\n",
      "     -----------------                        19.6/44.0 MB 2.7 MB/s eta 0:00:09\n",
      "     ------------------                       19.8/44.0 MB 2.7 MB/s eta 0:00:09\n",
      "     ------------------                       19.8/44.0 MB 2.7 MB/s eta 0:00:09\n",
      "     ------------------                       20.0/44.0 MB 2.7 MB/s eta 0:00:09\n",
      "     ------------------                       20.2/44.0 MB 2.7 MB/s eta 0:00:09\n",
      "     ------------------                       20.4/44.0 MB 2.8 MB/s eta 0:00:09\n",
      "     ------------------                       20.4/44.0 MB 2.7 MB/s eta 0:00:09\n",
      "     ------------------                       20.4/44.0 MB 2.7 MB/s eta 0:00:09\n",
      "     ------------------                       20.5/44.0 MB 2.7 MB/s eta 0:00:09\n",
      "     ------------------                       20.7/44.0 MB 2.7 MB/s eta 0:00:09\n",
      "     -------------------                      20.9/44.0 MB 2.7 MB/s eta 0:00:09\n",
      "     -------------------                      21.0/44.0 MB 2.7 MB/s eta 0:00:09\n",
      "     -------------------                      21.2/44.0 MB 2.7 MB/s eta 0:00:09\n",
      "     -------------------                      21.3/44.0 MB 2.7 MB/s eta 0:00:09\n",
      "     -------------------                      21.5/44.0 MB 2.8 MB/s eta 0:00:09\n",
      "     -------------------                      21.7/44.0 MB 2.8 MB/s eta 0:00:08\n",
      "     -------------------                      21.8/44.0 MB 2.8 MB/s eta 0:00:09\n",
      "     -------------------                      21.9/44.0 MB 2.8 MB/s eta 0:00:09\n",
      "     --------------------                     22.1/44.0 MB 2.8 MB/s eta 0:00:08\n",
      "     --------------------                     22.3/44.0 MB 2.8 MB/s eta 0:00:08\n",
      "     --------------------                     22.4/44.0 MB 2.8 MB/s eta 0:00:08\n",
      "     --------------------                     22.6/44.0 MB 2.8 MB/s eta 0:00:08\n",
      "     --------------------                     22.7/44.0 MB 2.8 MB/s eta 0:00:08\n",
      "     --------------------                     22.9/44.0 MB 2.8 MB/s eta 0:00:08\n",
      "     --------------------                     23.0/44.0 MB 2.8 MB/s eta 0:00:08\n",
      "     ---------------------                    23.1/44.0 MB 2.8 MB/s eta 0:00:08\n",
      "     ---------------------                    23.3/44.0 MB 2.8 MB/s eta 0:00:08\n",
      "     ---------------------                    23.4/44.0 MB 2.8 MB/s eta 0:00:08\n",
      "     ---------------------                    23.5/44.0 MB 2.8 MB/s eta 0:00:08\n",
      "     ---------------------                    23.7/44.0 MB 2.9 MB/s eta 0:00:08\n",
      "     ---------------------                    23.8/44.0 MB 2.9 MB/s eta 0:00:08\n",
      "     ---------------------                    24.0/44.0 MB 2.9 MB/s eta 0:00:07\n",
      "     ---------------------                    24.1/44.0 MB 2.9 MB/s eta 0:00:07\n",
      "     ----------------------                   24.2/44.0 MB 2.9 MB/s eta 0:00:07\n",
      "     ----------------------                   24.4/44.0 MB 2.9 MB/s eta 0:00:07\n",
      "     ----------------------                   24.5/44.0 MB 2.9 MB/s eta 0:00:07\n",
      "     ----------------------                   24.7/44.0 MB 2.9 MB/s eta 0:00:07\n",
      "     ----------------------                   24.8/44.0 MB 2.9 MB/s eta 0:00:07\n",
      "     ----------------------                   25.0/44.0 MB 2.9 MB/s eta 0:00:07\n",
      "     ----------------------                   25.1/44.0 MB 2.9 MB/s eta 0:00:07\n",
      "     ----------------------                   25.2/44.0 MB 2.9 MB/s eta 0:00:07\n",
      "     -----------------------                  25.4/44.0 MB 2.9 MB/s eta 0:00:07\n",
      "     -----------------------                  25.5/44.0 MB 2.9 MB/s eta 0:00:07\n",
      "     -----------------------                  25.7/44.0 MB 2.9 MB/s eta 0:00:07\n",
      "     -----------------------                  25.8/44.0 MB 2.9 MB/s eta 0:00:07\n",
      "     -----------------------                  25.8/44.0 MB 2.9 MB/s eta 0:00:07\n",
      "     -----------------------                  26.1/44.0 MB 2.9 MB/s eta 0:00:07\n",
      "     -----------------------                  26.2/44.0 MB 2.9 MB/s eta 0:00:07\n",
      "     -----------------------                  26.3/44.0 MB 2.9 MB/s eta 0:00:06\n",
      "     ------------------------                 26.4/44.0 MB 2.9 MB/s eta 0:00:06\n",
      "     ------------------------                 26.5/44.0 MB 2.9 MB/s eta 0:00:06\n",
      "     ------------------------                 26.6/44.0 MB 2.9 MB/s eta 0:00:06\n",
      "     ------------------------                 26.8/44.0 MB 2.9 MB/s eta 0:00:06\n",
      "     ------------------------                 26.9/44.0 MB 2.9 MB/s eta 0:00:06\n",
      "     ------------------------                 27.1/44.0 MB 2.9 MB/s eta 0:00:06\n",
      "     ------------------------                 27.2/44.0 MB 2.9 MB/s eta 0:00:06\n",
      "     ------------------------                 27.4/44.0 MB 2.9 MB/s eta 0:00:06\n",
      "     -------------------------                27.5/44.0 MB 2.9 MB/s eta 0:00:06\n",
      "     -------------------------                27.7/44.0 MB 2.9 MB/s eta 0:00:06\n",
      "     -------------------------                27.8/44.0 MB 2.9 MB/s eta 0:00:06\n",
      "     -------------------------                28.0/44.0 MB 2.9 MB/s eta 0:00:06\n",
      "     -------------------------                28.2/44.0 MB 2.9 MB/s eta 0:00:06\n",
      "     -------------------------                28.4/44.0 MB 3.0 MB/s eta 0:00:06\n",
      "     --------------------------               28.6/44.0 MB 3.1 MB/s eta 0:00:06\n",
      "     --------------------------               28.8/44.0 MB 3.1 MB/s eta 0:00:05\n",
      "     --------------------------               29.0/44.0 MB 3.1 MB/s eta 0:00:05\n",
      "     --------------------------               29.2/44.0 MB 3.1 MB/s eta 0:00:05\n",
      "     --------------------------               29.4/44.0 MB 3.2 MB/s eta 0:00:05\n",
      "     --------------------------               29.6/44.0 MB 3.2 MB/s eta 0:00:05\n",
      "     ---------------------------              29.8/44.0 MB 3.2 MB/s eta 0:00:05\n",
      "     ---------------------------              30.0/44.0 MB 3.2 MB/s eta 0:00:05\n",
      "     ---------------------------              30.2/44.0 MB 3.2 MB/s eta 0:00:05\n",
      "     ---------------------------              30.4/44.0 MB 3.2 MB/s eta 0:00:05\n",
      "     ---------------------------              30.6/44.0 MB 3.3 MB/s eta 0:00:05\n",
      "     ----------------------------             30.8/44.0 MB 3.4 MB/s eta 0:00:04\n",
      "     ----------------------------             31.0/44.0 MB 3.3 MB/s eta 0:00:04\n",
      "     ----------------------------             31.2/44.0 MB 3.4 MB/s eta 0:00:04\n",
      "     ----------------------------             31.4/44.0 MB 3.4 MB/s eta 0:00:04\n",
      "     ----------------------------             31.6/44.0 MB 3.4 MB/s eta 0:00:04\n",
      "     ----------------------------             31.8/44.0 MB 3.4 MB/s eta 0:00:04\n",
      "     -----------------------------            32.0/44.0 MB 3.4 MB/s eta 0:00:04\n",
      "     -----------------------------            32.2/44.0 MB 3.5 MB/s eta 0:00:04\n",
      "     -----------------------------            32.4/44.0 MB 3.4 MB/s eta 0:00:04\n",
      "     -----------------------------            32.5/44.0 MB 3.4 MB/s eta 0:00:04\n",
      "     -----------------------------            32.7/44.0 MB 3.4 MB/s eta 0:00:04\n",
      "     -----------------------------            32.9/44.0 MB 3.5 MB/s eta 0:00:04\n",
      "     ------------------------------           33.1/44.0 MB 3.5 MB/s eta 0:00:04\n",
      "     ------------------------------           33.2/44.0 MB 3.5 MB/s eta 0:00:04\n",
      "     ------------------------------           33.4/44.0 MB 3.5 MB/s eta 0:00:03\n",
      "     ------------------------------           33.6/44.0 MB 3.5 MB/s eta 0:00:03\n",
      "     ------------------------------           33.8/44.0 MB 3.6 MB/s eta 0:00:03\n",
      "     ------------------------------           34.0/44.0 MB 3.6 MB/s eta 0:00:03\n",
      "     -------------------------------          34.2/44.0 MB 3.6 MB/s eta 0:00:03\n",
      "     -------------------------------          34.4/44.0 MB 3.6 MB/s eta 0:00:03\n",
      "     -------------------------------          34.5/44.0 MB 3.7 MB/s eta 0:00:03\n",
      "     -------------------------------          34.8/44.0 MB 3.7 MB/s eta 0:00:03\n",
      "     -------------------------------          35.0/44.0 MB 3.7 MB/s eta 0:00:03\n",
      "     --------------------------------         35.2/44.0 MB 3.7 MB/s eta 0:00:03\n",
      "     --------------------------------         35.4/44.0 MB 3.8 MB/s eta 0:00:03\n",
      "     --------------------------------         35.6/44.0 MB 3.8 MB/s eta 0:00:03\n",
      "     --------------------------------         35.8/44.0 MB 3.9 MB/s eta 0:00:03\n",
      "     --------------------------------         35.9/44.0 MB 3.8 MB/s eta 0:00:03\n",
      "     --------------------------------         36.1/44.0 MB 3.9 MB/s eta 0:00:03\n",
      "     --------------------------------         36.2/44.0 MB 3.9 MB/s eta 0:00:03\n",
      "     ---------------------------------        36.5/44.0 MB 3.9 MB/s eta 0:00:02\n",
      "     ---------------------------------        36.6/44.0 MB 3.9 MB/s eta 0:00:02\n",
      "     ---------------------------------        36.8/44.0 MB 3.9 MB/s eta 0:00:02\n",
      "     ---------------------------------        37.0/44.0 MB 4.0 MB/s eta 0:00:02\n",
      "     ---------------------------------        37.2/44.0 MB 4.0 MB/s eta 0:00:02\n",
      "     ---------------------------------        37.4/44.0 MB 4.1 MB/s eta 0:00:02\n",
      "     ----------------------------------       37.6/44.0 MB 4.1 MB/s eta 0:00:02\n",
      "     ----------------------------------       37.8/44.0 MB 4.1 MB/s eta 0:00:02\n",
      "     ----------------------------------       38.0/44.0 MB 4.1 MB/s eta 0:00:02\n",
      "     ----------------------------------       38.2/44.0 MB 4.1 MB/s eta 0:00:02\n",
      "     ----------------------------------       38.3/44.0 MB 4.1 MB/s eta 0:00:02\n",
      "     -----------------------------------      38.6/44.0 MB 4.1 MB/s eta 0:00:02\n",
      "     -----------------------------------      38.8/44.0 MB 4.1 MB/s eta 0:00:02\n",
      "     -----------------------------------      39.0/44.0 MB 4.1 MB/s eta 0:00:02\n",
      "     -----------------------------------      39.1/44.0 MB 4.1 MB/s eta 0:00:02\n",
      "     -----------------------------------      39.4/44.0 MB 4.1 MB/s eta 0:00:02\n",
      "     ------------------------------------     39.6/44.0 MB 4.1 MB/s eta 0:00:02\n",
      "     ------------------------------------     39.8/44.0 MB 4.1 MB/s eta 0:00:02\n",
      "     ------------------------------------     40.0/44.0 MB 4.1 MB/s eta 0:00:01\n",
      "     ------------------------------------     40.2/44.0 MB 4.1 MB/s eta 0:00:01\n",
      "     ------------------------------------     40.3/44.0 MB 4.1 MB/s eta 0:00:01\n",
      "     ------------------------------------     40.5/44.0 MB 4.1 MB/s eta 0:00:01\n",
      "     ------------------------------------     40.7/44.0 MB 4.1 MB/s eta 0:00:01\n",
      "     -------------------------------------    40.9/44.0 MB 4.1 MB/s eta 0:00:01\n",
      "     -------------------------------------    41.1/44.0 MB 4.1 MB/s eta 0:00:01\n",
      "     -------------------------------------    41.3/44.0 MB 4.1 MB/s eta 0:00:01\n",
      "     -------------------------------------    41.5/44.0 MB 4.1 MB/s eta 0:00:01\n",
      "     -------------------------------------    41.7/44.0 MB 4.1 MB/s eta 0:00:01\n",
      "     --------------------------------------   41.9/44.0 MB 4.1 MB/s eta 0:00:01\n",
      "     --------------------------------------   42.1/44.0 MB 4.1 MB/s eta 0:00:01\n",
      "     --------------------------------------   42.3/44.0 MB 4.1 MB/s eta 0:00:01\n",
      "     --------------------------------------   42.4/44.0 MB 4.1 MB/s eta 0:00:01\n",
      "     --------------------------------------   42.7/44.0 MB 4.1 MB/s eta 0:00:01\n",
      "     ---------------------------------------  42.9/44.0 MB 4.1 MB/s eta 0:00:01\n",
      "     ---------------------------------------  43.1/44.0 MB 4.1 MB/s eta 0:00:01\n",
      "     ---------------------------------------  43.3/44.0 MB 4.1 MB/s eta 0:00:01\n",
      "     ---------------------------------------  43.5/44.0 MB 4.1 MB/s eta 0:00:01\n",
      "     ---------------------------------------  43.7/44.0 MB 4.1 MB/s eta 0:00:01\n",
      "     ---------------------------------------  43.9/44.0 MB 4.1 MB/s eta 0:00:01\n",
      "     ---------------------------------------  44.0/44.0 MB 4.1 MB/s eta 0:00:01\n",
      "     ---------------------------------------  44.0/44.0 MB 4.1 MB/s eta 0:00:01\n",
      "     ---------------------------------------  44.0/44.0 MB 4.1 MB/s eta 0:00:01\n",
      "     ---------------------------------------- 44.0/44.0 MB 3.8 MB/s eta 0:00:00\n",
      "Requirement already satisfied: numpy<1.28.0,>=1.21.6 in c:\\users\\shtif_nv\\appdata\\local\\anaconda3\\envs\\ibm\\lib\\site-packages (from scipy) (1.25.0)\n",
      "Installing collected packages: scipy\n",
      "Successfully installed scipy-1.11.1\n"
     ]
    }
   ],
   "source": [
    "!pip install scipy"
   ]
  },
  {
   "cell_type": "code",
   "execution_count": 13,
   "metadata": {
    "tags": []
   },
   "outputs": [
    {
     "data": {
      "text/plain": [
       "Text(0.5, 0, 'ConvertedComp')"
      ]
     },
     "execution_count": 13,
     "metadata": {},
     "output_type": "execute_result"
    },
    {
     "data": {
      "image/png": "[encoded data removed]",
      "text/plain": [
       "<Figure size 640x480 with 1 Axes>"
      ]
     },
     "metadata": {},
     "output_type": "display_data"
    }
   ],
   "source": [
    "# your code goes here\n",
    "%matplotlib inline \n",
    "\n",
    "import matplotlib as mpl\n",
    "import matplotlib.pyplot as plt\n",
    "from matplotlib.ticker import StrMethodFormatter\n",
    "\n",
    "df['ConvertedComp'].plot(kind='kde', rot=45)\n",
    "plt.gca().xaxis.set_major_formatter(StrMethodFormatter('{x:,.0f}'))\n",
    "plt.xlabel('ConvertedComp')"
   ]
  },
  {
   "cell_type": "markdown",
   "metadata": {},
   "source": [
    "Plot the histogram for the column `ConvertedComp`.\n"
   ]
  },
  {
   "cell_type": "code",
   "execution_count": 17,
   "metadata": {
    "tags": []
   },
   "outputs": [
    {
     "data": {
      "text/plain": [
       "Text(0.5, 0, 'ConvertedComp')"
      ]
     },
     "execution_count": 17,
     "metadata": {},
     "output_type": "execute_result"
    },
    {
     "data": {
      "image/png": "[encoded data removed]",
      "text/plain": [
       "<Figure size 640x480 with 1 Axes>"
      ]
     },
     "metadata": {},
     "output_type": "display_data"
    }
   ],
   "source": [
    "# your code goes here\n",
    "df['ConvertedComp'].plot(kind='hist',bins=10, rot=45)\n",
    "plt.gca().xaxis.set_major_formatter(StrMethodFormatter('{x:,.0f}'))\n",
    "plt.xlabel('ConvertedComp')"
   ]
  },
  {
   "cell_type": "markdown",
   "metadata": {},
   "source": [
    "What is the median of the column `ConvertedComp`?\n"
   ]
  },
  {
   "cell_type": "code",
   "execution_count": 18,
   "metadata": {
    "tags": []
   },
   "outputs": [
    {
     "data": {
      "text/plain": [
       "57745.0"
      ]
     },
     "execution_count": 18,
     "metadata": {},
     "output_type": "execute_result"
    }
   ],
   "source": [
    "# your code goes here\n",
    "df['ConvertedComp'].median()"
   ]
  },
  {
   "cell_type": "markdown",
   "metadata": {},
   "source": [
    "How many responders identified themselves only as a **Man**?\n"
   ]
  },
  {
   "cell_type": "code",
   "execution_count": 21,
   "metadata": {
    "tags": []
   },
   "outputs": [
    {
     "data": {
      "text/plain": [
       "Index(['Respondent', 'MainBranch', 'Hobbyist', 'OpenSourcer', 'OpenSource',\n",
       "       'Employment', 'Country', 'Student', 'EdLevel', 'UndergradMajor',\n",
       "       'EduOther', 'OrgSize', 'DevType', 'YearsCode', 'Age1stCode',\n",
       "       'YearsCodePro', 'CareerSat', 'JobSat', 'MgrIdiot', 'MgrMoney',\n",
       "       'MgrWant', 'JobSeek', 'LastHireDate', 'LastInt', 'FizzBuzz',\n",
       "       'JobFactors', 'ResumeUpdate', 'CurrencySymbol', 'CurrencyDesc',\n",
       "       'CompTotal', 'CompFreq', 'ConvertedComp', 'WorkWeekHrs', 'WorkPlan',\n",
       "       'WorkChallenge', 'WorkRemote', 'WorkLoc', 'ImpSyn', 'CodeRev',\n",
       "       'CodeRevHrs', 'UnitTests', 'PurchaseHow', 'PurchaseWhat',\n",
       "       'LanguageWorkedWith', 'LanguageDesireNextYear', 'DatabaseWorkedWith',\n",
       "       'DatabaseDesireNextYear', 'PlatformWorkedWith',\n",
       "       'PlatformDesireNextYear', 'WebFrameWorkedWith',\n",
       "       'WebFrameDesireNextYear', 'MiscTechWorkedWith',\n",
       "       'MiscTechDesireNextYear', 'DevEnviron', 'OpSys', 'Containers',\n",
       "       'BlockchainOrg', 'BlockchainIs', 'BetterLife', 'ITperson', 'OffOn',\n",
       "       'SocialMedia', 'Extraversion', 'ScreenName', 'SOVisit1st',\n",
       "       'SOVisitFreq', 'SOVisitTo', 'SOFindAnswer', 'SOTimeSaved',\n",
       "       'SOHowMuchTime', 'SOAccount', 'SOPartFreq', 'SOJobs', 'EntTeams',\n",
       "       'SOComm', 'WelcomeChange', 'SONewContent', 'Age', 'Gender', 'Trans',\n",
       "       'Sexuality', 'Ethnicity', 'Dependents', 'SurveyLength', 'SurveyEase'],\n",
       "      dtype='object')"
      ]
     },
     "execution_count": 21,
     "metadata": {},
     "output_type": "execute_result"
    }
   ],
   "source": [
    "df.columns"
   ]
  },
  {
   "cell_type": "code",
   "execution_count": 29,
   "metadata": {
    "tags": []
   },
   "outputs": [
    {
     "data": {
      "text/plain": [
       "10480"
      ]
     },
     "execution_count": 29,
     "metadata": {},
     "output_type": "execute_result"
    }
   ],
   "source": [
    "# your code goes here\n",
    "df['Gender'].value_counts()['Man']"
   ]
  },
  {
   "cell_type": "markdown",
   "metadata": {},
   "source": [
    "Find out the  median ConvertedComp of responders identified themselves only as a **Woman**?\n"
   ]
  },
  {
   "cell_type": "code",
   "execution_count": 34,
   "metadata": {
    "tags": []
   },
   "outputs": [
    {
     "data": {
      "text/plain": [
       "57708.0"
      ]
     },
     "execution_count": 34,
     "metadata": {},
     "output_type": "execute_result"
    }
   ],
   "source": [
    "# your code goes here\n",
    "df[df['Gender']=='Woman']['ConvertedComp'].median()"
   ]
  },
  {
   "cell_type": "markdown",
   "metadata": {},
   "source": [
    "Give the five number summary for the column `Age`?\n"
   ]
  },
  {
   "cell_type": "markdown",
   "metadata": {},
   "source": [
    "**Double click here for hint**.\n",
    "\n",
    "<!--\n",
    "min,q1,median,q3,max of a column are its five number summary.\n",
    "-->\n"
   ]
  },
  {
   "cell_type": "code",
   "execution_count": 36,
   "metadata": {
    "tags": []
   },
   "outputs": [
    {
     "data": {
      "text/plain": [
       "count    11111.000000\n",
       "mean        30.778895\n",
       "std          7.393686\n",
       "min         16.000000\n",
       "25%         25.000000\n",
       "50%         29.000000\n",
       "75%         35.000000\n",
       "max         99.000000\n",
       "Name: Age, dtype: float64"
      ]
     },
     "execution_count": 36,
     "metadata": {},
     "output_type": "execute_result"
    }
   ],
   "source": [
    "# your code goes here\n",
    "df['Age'].describe()"
   ]
  },
  {
   "cell_type": "markdown",
   "metadata": {},
   "source": [
    "Plot a histogram of the column `Age`.\n"
   ]
  },
  {
   "cell_type": "code",
   "execution_count": 67,
   "metadata": {
    "tags": []
   },
   "outputs": [
    {
     "data": {
      "text/plain": [
       "Text(0.5, 0, 'Age')"
      ]
     },
     "execution_count": 67,
     "metadata": {},
     "output_type": "execute_result"
    },
    {
     "data": {
      "image/png": "[encoded data removed]",
      "text/plain": [
       "<Figure size 640x480 with 1 Axes>"
      ]
     },
     "metadata": {},
     "output_type": "display_data"
    }
   ],
   "source": [
    "# your code goes here\n",
    "count, bin_edges = np.histogram(df[np.isfinite(df['Age'])]['Age'], 10)\n",
    "df['Age'].plot(kind='hist', bins=10, xticks=bin_edges)\n",
    "plt.gca().xaxis.set_major_formatter(StrMethodFormatter('{x:,.0f}'))\n",
    "plt.xlabel('Age')"
   ]
  },
  {
   "cell_type": "markdown",
   "metadata": {},
   "source": [
    "## Outliers\n"
   ]
  },
  {
   "cell_type": "markdown",
   "metadata": {},
   "source": [
    "### Finding outliers\n"
   ]
  },
  {
   "cell_type": "markdown",
   "metadata": {},
   "source": [
    "Find out if outliers exist in the column `ConvertedComp` using a box plot?\n"
   ]
  },
  {
   "cell_type": "code",
   "execution_count": 43,
   "metadata": {
    "tags": []
   },
   "outputs": [
    {
     "data": {
      "image/png": "[encoded data removed]",
      "text/plain": [
       "<Figure size 640x480 with 1 Axes>"
      ]
     },
     "metadata": {},
     "output_type": "display_data"
    }
   ],
   "source": [
    "# your code goes here\n",
    "df['ConvertedComp'].plot(kind='box')\n",
    "plt.title('Finding outliers in the column ConvertedComp')\n",
    "plt.ylabel('ConvertedComp')\n",
    "plt.gca().yaxis.set_major_formatter(StrMethodFormatter('{x:,.0f}'))\n",
    "plt.show()"
   ]
  },
  {
   "cell_type": "markdown",
   "metadata": {},
   "source": [
    "Find out the Inter Quartile Range for the column `ConvertedComp`.\n"
   ]
  },
  {
   "cell_type": "code",
   "execution_count": 74,
   "metadata": {
    "tags": []
   },
   "outputs": [
    {
     "name": "stdout",
     "output_type": "stream",
     "text": [
      "The Interquartile Range for the ConvertedComp is: 73132.0\n"
     ]
    }
   ],
   "source": [
    "# your code goes here\n",
    "\n",
    "Q1 = df['ConvertedComp'].quantile(0.25)\n",
    "Q3 = df['ConvertedComp'].quantile(0.75)\n",
    "IQR = Q3 - Q1\n",
    "print('The Interquartile Range for the ConvertedComp is:',IQR)"
   ]
  },
  {
   "cell_type": "markdown",
   "metadata": {},
   "source": [
    "Find out the upper and lower bounds.\n"
   ]
  },
  {
   "cell_type": "code",
   "execution_count": 51,
   "metadata": {
    "tags": []
   },
   "outputs": [
    {
     "name": "stdout",
     "output_type": "stream",
     "text": [
      "209356.0 0.0\n"
     ]
    }
   ],
   "source": [
    "# your code goes here\n",
    "Lower_Fence = Q1 - (1.5 * IQR)\n",
    "Upper_Fence = Q3 + (1.5 * IQR)\n",
    "u = max(df['ConvertedComp'][df['ConvertedComp']<Upper_Fence])\n",
    "l = min(df['ConvertedComp'][df['ConvertedComp']>Lower_Fence])\n",
    "print (u, l)"
   ]
  },
  {
   "cell_type": "markdown",
   "metadata": {},
   "source": [
    "Identify how many outliers are there in the `ConvertedComp` column.\n"
   ]
  },
  {
   "cell_type": "code",
   "execution_count": 53,
   "metadata": {
    "tags": []
   },
   "outputs": [
    {
     "data": {
      "text/plain": [
       "879"
      ]
     },
     "execution_count": 53,
     "metadata": {},
     "output_type": "execute_result"
    }
   ],
   "source": [
    "# your code goes here\n",
    "df[(df['ConvertedComp'] < (Q1 - 1.5 * IQR)) | (df['ConvertedComp'] > (Q3 + 1.5 * IQR))]['ConvertedComp'].count()"
   ]
  },
  {
   "cell_type": "markdown",
   "metadata": {},
   "source": [
    "Create a new dataframe by removing the outliers from the `ConvertedComp` column.\n"
   ]
  },
  {
   "cell_type": "code",
   "execution_count": 78,
   "metadata": {
    "tags": []
   },
   "outputs": [
    {
     "name": "stderr",
     "output_type": "stream",
     "text": [
      "C:\\Users\\shtif_nv\\AppData\\Local\\Temp\\ipykernel_12872\\167966176.py:1: FutureWarning: The default value of numeric_only in DataFrame.median is deprecated. In a future version, it will default to False. In addition, specifying 'numeric_only=None' is deprecated. Select only valid columns or specify the value of numeric_only to silence this warning.\n",
      "  df[df['ConvertedComp'] <= u].median()\n"
     ]
    },
    {
     "data": {
      "text/plain": [
       "Respondent       12571.0\n",
       "CompTotal        63000.0\n",
       "ConvertedComp    52704.0\n",
       "WorkWeekHrs         40.0\n",
       "CodeRevHrs           4.0\n",
       "Age                 29.0\n",
       "dtype: float64"
      ]
     },
     "execution_count": 78,
     "metadata": {},
     "output_type": "execute_result"
    }
   ],
   "source": [
    "df[df['ConvertedComp'] <= u].median()"
   ]
  },
  {
   "cell_type": "code",
   "execution_count": 81,
   "metadata": {
    "tags": []
   },
   "outputs": [],
   "source": [
    "# your code goes here\n",
    "df1=df[(df['ConvertedComp'] >= l) & (df['ConvertedComp'] <= u)]"
   ]
  },
  {
   "cell_type": "code",
   "execution_count": 82,
   "metadata": {
    "tags": []
   },
   "outputs": [
    {
     "data": {
      "text/plain": [
       "(11398, 85)"
      ]
     },
     "execution_count": 82,
     "metadata": {},
     "output_type": "execute_result"
    }
   ],
   "source": [
    "df.shape"
   ]
  },
  {
   "cell_type": "code",
   "execution_count": 83,
   "metadata": {
    "tags": []
   },
   "outputs": [
    {
     "data": {
      "text/plain": [
       "(9703, 85)"
      ]
     },
     "execution_count": 83,
     "metadata": {},
     "output_type": "execute_result"
    }
   ],
   "source": [
    "df1.shape"
   ]
  },
  {
   "cell_type": "code",
   "execution_count": 84,
   "metadata": {
    "tags": []
   },
   "outputs": [
    {
     "data": {
      "text/plain": [
       "52704.0"
      ]
     },
     "execution_count": 84,
     "metadata": {},
     "output_type": "execute_result"
    }
   ],
   "source": [
    "df1['ConvertedComp'].median()"
   ]
  },
  {
   "cell_type": "code",
   "execution_count": 86,
   "metadata": {
    "tags": []
   },
   "outputs": [
    {
     "data": {
      "text/plain": [
       "59883.20838915799"
      ]
     },
     "execution_count": 86,
     "metadata": {},
     "output_type": "execute_result"
    }
   ],
   "source": [
    "df1['ConvertedComp'].mean()"
   ]
  },
  {
   "cell_type": "markdown",
   "metadata": {},
   "source": [
    "## Correlation\n"
   ]
  },
  {
   "cell_type": "markdown",
   "metadata": {},
   "source": [
    "### Finding correlation\n"
   ]
  },
  {
   "cell_type": "markdown",
   "metadata": {},
   "source": [
    "Find the correlation between `Age` and all other numerical columns.\n"
   ]
  },
  {
   "cell_type": "code",
   "execution_count": 61,
   "metadata": {
    "tags": []
   },
   "outputs": [
    {
     "name": "stdout",
     "output_type": "stream",
     "text": [
      "Respondent       0.004041\n",
      "CompTotal        0.006970\n",
      "ConvertedComp    0.105386\n",
      "WorkWeekHrs      0.036518\n",
      "CodeRevHrs      -0.020469\n",
      "Age              1.000000\n",
      "Name: Age, dtype: float64\n"
     ]
    },
    {
     "name": "stderr",
     "output_type": "stream",
     "text": [
      "C:\\Users\\shtif_nv\\AppData\\Local\\Temp\\ipykernel_12872\\3043017788.py:2: FutureWarning: The default value of numeric_only in DataFrame.corr is deprecated. In a future version, it will default to False. Select only valid columns or specify the value of numeric_only to silence this warning.\n",
      "  df2=df.corr()\n"
     ]
    }
   ],
   "source": [
    "# your code goes here\n",
    "df2=df.corr()\n",
    "print(df2['Age'])"
   ]
  },
  {
   "cell_type": "code",
   "execution_count": 85,
   "metadata": {
    "tags": []
   },
   "outputs": [
    {
     "data": {
      "image/png": "[encoded data removed]",
      "text/plain": [
       "<Figure size 640x480 with 1 Axes>"
      ]
     },
     "metadata": {},
     "output_type": "display_data"
    }
   ],
   "source": [
    "df['Age'].plot(kind='box')\n",
    "plt.title('Finding outliers in the column Age')\n",
    "plt.ylabel('Age')\n",
    "plt.gca().yaxis.set_major_formatter(StrMethodFormatter('{x:,.0f}'))\n",
    "plt.show()"
   ]
  },
  {
   "cell_type": "markdown",
   "metadata": {},
   "source": [
    "## Authors\n"
   ]
  },
  {
   "cell_type": "markdown",
   "metadata": {},
   "source": [
    "Ramesh Sannareddy\n"
   ]
  },
  {
   "cell_type": "markdown",
   "metadata": {},
   "source": [
    "### Other Contributors\n"
   ]
  },
  {
   "cell_type": "markdown",
   "metadata": {},
   "source": [
    "Rav Ahuja\n"
   ]
  },
  {
   "cell_type": "markdown",
   "metadata": {},
   "source": [
    "## Change Log\n"
   ]
  },
  {
   "cell_type": "markdown",
   "metadata": {},
   "source": [
    "| Date (YYYY-MM-DD) | Version | Changed By        | Change Description                 |\n",
    "| ----------------- | ------- | ----------------- | ---------------------------------- |\n",
    "| 2020-10-17        | 0.1     | Ramesh Sannareddy | Created initial version of the lab |\n"
   ]
  },
  {
   "cell_type": "markdown",
   "metadata": {},
   "source": [
    " Copyright © 2020 IBM Corporation. This notebook and its source code are released under the terms of the [MIT License](https://cognitiveclass.ai/mit-license?utm_medium=Exinfluencer&utm_source=Exinfluencer&utm_content=000026UJ&utm_term=10006555&utm_id=NA-SkillsNetwork-Channel-SkillsNetworkCoursesIBMDA0321ENSkillsNetwork928-2023-01-01&cm_mmc=Email_Newsletter-_-Developer_Ed%2BTech-_-WW_WW-_-SkillsNetwork-Courses-IBM-DA0321EN-SkillsNetwork-21426264&cm_mmca1=000026UJ&cm_mmca2=10006555&cm_mmca3=M12345678&cvosrc=email.Newsletter.M12345678&cvo_campaign=000026UJ).\n"
   ]
  }
 ],
 "metadata": {
  "kernelspec": {
   "display_name": "Python 3 (ipykernel)",
   "language": "python",
   "name": "python3"
  },
  "language_info": {
   "codemirror_mode": {
    "name": "ipython",
    "version": 3
   },
   "file_extension": ".py",
   "mimetype": "text/x-python",
   "name": "python",
   "nbconvert_exporter": "python",
   "pygments_lexer": "ipython3",
   "version": "3.11.4"
  }
 },
 "nbformat": 4,
 "nbformat_minor": 4
}
